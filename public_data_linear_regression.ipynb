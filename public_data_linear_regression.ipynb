{
 "cells": [
  {
   "cell_type": "code",
   "execution_count": 1,
   "metadata": {},
   "outputs": [],
   "source": [
    "import pandas as pd\n",
    "import numpy as np\n",
    "import matplotlib.pyplot as plt"
   ]
  },
  {
   "cell_type": "code",
   "execution_count": 2,
   "metadata": {
    "scrolled": true
   },
   "outputs": [
    {
     "data": {
      "text/html": [
       "<div>\n",
       "<style scoped>\n",
       "    .dataframe tbody tr th:only-of-type {\n",
       "        vertical-align: middle;\n",
       "    }\n",
       "\n",
       "    .dataframe tbody tr th {\n",
       "        vertical-align: top;\n",
       "    }\n",
       "\n",
       "    .dataframe thead th {\n",
       "        text-align: right;\n",
       "    }\n",
       "</style>\n",
       "<table border=\"1\" class=\"dataframe\">\n",
       "  <thead>\n",
       "    <tr style=\"text-align: right;\">\n",
       "      <th></th>\n",
       "      <th>1975</th>\n",
       "      <th>1980</th>\n",
       "      <th>1985</th>\n",
       "      <th>1990</th>\n",
       "      <th>1995</th>\n",
       "      <th>2000</th>\n",
       "      <th>2005</th>\n",
       "      <th>2010</th>\n",
       "    </tr>\n",
       "    <tr>\n",
       "      <th>행정구역별(시군구)</th>\n",
       "      <th></th>\n",
       "      <th></th>\n",
       "      <th></th>\n",
       "      <th></th>\n",
       "      <th></th>\n",
       "      <th></th>\n",
       "      <th></th>\n",
       "      <th></th>\n",
       "    </tr>\n",
       "  </thead>\n",
       "  <tbody>\n",
       "    <tr>\n",
       "      <th>행정구역별(시군구)</th>\n",
       "      <td>총인구</td>\n",
       "      <td>총인구</td>\n",
       "      <td>총인구</td>\n",
       "      <td>총인구</td>\n",
       "      <td>총인구</td>\n",
       "      <td>총인구</td>\n",
       "      <td>총인구</td>\n",
       "      <td>총인구</td>\n",
       "    </tr>\n",
       "    <tr>\n",
       "      <th>전국</th>\n",
       "      <td>34704286</td>\n",
       "      <td>37436315</td>\n",
       "      <td>40448486</td>\n",
       "      <td>43410899</td>\n",
       "      <td>44608726</td>\n",
       "      <td>46136101</td>\n",
       "      <td>47278951</td>\n",
       "      <td>48580293</td>\n",
       "    </tr>\n",
       "    <tr>\n",
       "      <th>서울특별시</th>\n",
       "      <td>6889440</td>\n",
       "      <td>8364379</td>\n",
       "      <td>9639110</td>\n",
       "      <td>10612577</td>\n",
       "      <td>10231217</td>\n",
       "      <td>9895217</td>\n",
       "      <td>9820171</td>\n",
       "      <td>9794304</td>\n",
       "    </tr>\n",
       "    <tr>\n",
       "      <th>부산광역시</th>\n",
       "      <td>2580472</td>\n",
       "      <td>3248232</td>\n",
       "      <td>3595405</td>\n",
       "      <td>3854960</td>\n",
       "      <td>3814325</td>\n",
       "      <td>3662884</td>\n",
       "      <td>3523582</td>\n",
       "      <td>3414950</td>\n",
       "    </tr>\n",
       "    <tr>\n",
       "      <th>대구광역시</th>\n",
       "      <td>1517431</td>\n",
       "      <td>1852499</td>\n",
       "      <td>2110167</td>\n",
       "      <td>2322838</td>\n",
       "      <td>2449420</td>\n",
       "      <td>2480578</td>\n",
       "      <td>2464547</td>\n",
       "      <td>2446418</td>\n",
       "    </tr>\n",
       "    <tr>\n",
       "      <th>인천광역시</th>\n",
       "      <td>965092</td>\n",
       "      <td>1230101</td>\n",
       "      <td>1527057</td>\n",
       "      <td>1922608</td>\n",
       "      <td>2308188</td>\n",
       "      <td>2475139</td>\n",
       "      <td>2531280</td>\n",
       "      <td>2662509</td>\n",
       "    </tr>\n",
       "    <tr>\n",
       "      <th>광주광역시</th>\n",
       "      <td>737283</td>\n",
       "      <td>856545</td>\n",
       "      <td>1042508</td>\n",
       "      <td>1139003</td>\n",
       "      <td>1257636</td>\n",
       "      <td>1352797</td>\n",
       "      <td>1417716</td>\n",
       "      <td>1475745</td>\n",
       "    </tr>\n",
       "    <tr>\n",
       "      <th>대전광역시</th>\n",
       "      <td>639585</td>\n",
       "      <td>803954</td>\n",
       "      <td>943012</td>\n",
       "      <td>1049578</td>\n",
       "      <td>1272121</td>\n",
       "      <td>1368207</td>\n",
       "      <td>1442856</td>\n",
       "      <td>1501859</td>\n",
       "    </tr>\n",
       "    <tr>\n",
       "      <th>울산광역시</th>\n",
       "      <td>377619</td>\n",
       "      <td>544290</td>\n",
       "      <td>669713</td>\n",
       "      <td>805355</td>\n",
       "      <td>967429</td>\n",
       "      <td>1014428</td>\n",
       "      <td>1049177</td>\n",
       "      <td>1082567</td>\n",
       "    </tr>\n",
       "    <tr>\n",
       "      <th>경기도</th>\n",
       "      <td>3073881</td>\n",
       "      <td>3703761</td>\n",
       "      <td>4653989</td>\n",
       "      <td>6050943</td>\n",
       "      <td>7649741</td>\n",
       "      <td>8984134</td>\n",
       "      <td>10415399</td>\n",
       "      <td>11379459</td>\n",
       "    </tr>\n",
       "    <tr>\n",
       "      <th>강원도</th>\n",
       "      <td>1861549</td>\n",
       "      <td>1790954</td>\n",
       "      <td>1724809</td>\n",
       "      <td>1580430</td>\n",
       "      <td>1466238</td>\n",
       "      <td>1487011</td>\n",
       "      <td>1464559</td>\n",
       "      <td>1471513</td>\n",
       "    </tr>\n",
       "    <tr>\n",
       "      <th>충청북도</th>\n",
       "      <td>1522112</td>\n",
       "      <td>1424083</td>\n",
       "      <td>1391004</td>\n",
       "      <td>1389686</td>\n",
       "      <td>1396728</td>\n",
       "      <td>1466567</td>\n",
       "      <td>1460453</td>\n",
       "      <td>1512157</td>\n",
       "    </tr>\n",
       "    <tr>\n",
       "      <th>충청남도</th>\n",
       "      <td>2308916</td>\n",
       "      <td>2152260</td>\n",
       "      <td>2058167</td>\n",
       "      <td>2013926</td>\n",
       "      <td>1766854</td>\n",
       "      <td>1845321</td>\n",
       "      <td>1889495</td>\n",
       "      <td>2028002</td>\n",
       "    </tr>\n",
       "    <tr>\n",
       "      <th>전라북도</th>\n",
       "      <td>2456378</td>\n",
       "      <td>2287689</td>\n",
       "      <td>2202078</td>\n",
       "      <td>2069960</td>\n",
       "      <td>1902044</td>\n",
       "      <td>1890669</td>\n",
       "      <td>1784013</td>\n",
       "      <td>1777220</td>\n",
       "    </tr>\n",
       "    <tr>\n",
       "      <th>전라남도</th>\n",
       "      <td>3246762</td>\n",
       "      <td>2923191</td>\n",
       "      <td>2705920</td>\n",
       "      <td>2507439</td>\n",
       "      <td>2066842</td>\n",
       "      <td>1996456</td>\n",
       "      <td>1819819</td>\n",
       "      <td>1741499</td>\n",
       "    </tr>\n",
       "    <tr>\n",
       "      <th>경상북도</th>\n",
       "      <td>3340978</td>\n",
       "      <td>3102060</td>\n",
       "      <td>2930631</td>\n",
       "      <td>2766797</td>\n",
       "      <td>2676312</td>\n",
       "      <td>2724931</td>\n",
       "      <td>2607641</td>\n",
       "      <td>2600032</td>\n",
       "    </tr>\n",
       "    <tr>\n",
       "      <th>경상남도</th>\n",
       "      <td>2775061</td>\n",
       "      <td>2689376</td>\n",
       "      <td>2766340</td>\n",
       "      <td>2810194</td>\n",
       "      <td>2878193</td>\n",
       "      <td>2978502</td>\n",
       "      <td>3056356</td>\n",
       "      <td>3160154</td>\n",
       "    </tr>\n",
       "    <tr>\n",
       "      <th>제주특별자치도</th>\n",
       "      <td>411727</td>\n",
       "      <td>462941</td>\n",
       "      <td>488576</td>\n",
       "      <td>514605</td>\n",
       "      <td>505438</td>\n",
       "      <td>513260</td>\n",
       "      <td>531887</td>\n",
       "      <td>531905</td>\n",
       "    </tr>\n",
       "  </tbody>\n",
       "</table>\n",
       "</div>"
      ],
      "text/plain": [
       "                1975      1980      1985      1990      1995      2000  \\\n",
       "행정구역별(시군구)                                                               \n",
       "행정구역별(시군구)       총인구       총인구       총인구       총인구       총인구       총인구   \n",
       "전국          34704286  37436315  40448486  43410899  44608726  46136101   \n",
       "서울특별시        6889440   8364379   9639110  10612577  10231217   9895217   \n",
       "부산광역시        2580472   3248232   3595405   3854960   3814325   3662884   \n",
       "대구광역시        1517431   1852499   2110167   2322838   2449420   2480578   \n",
       "인천광역시         965092   1230101   1527057   1922608   2308188   2475139   \n",
       "광주광역시         737283    856545   1042508   1139003   1257636   1352797   \n",
       "대전광역시         639585    803954    943012   1049578   1272121   1368207   \n",
       "울산광역시         377619    544290    669713    805355    967429   1014428   \n",
       "경기도          3073881   3703761   4653989   6050943   7649741   8984134   \n",
       "강원도          1861549   1790954   1724809   1580430   1466238   1487011   \n",
       "충청북도         1522112   1424083   1391004   1389686   1396728   1466567   \n",
       "충청남도         2308916   2152260   2058167   2013926   1766854   1845321   \n",
       "전라북도         2456378   2287689   2202078   2069960   1902044   1890669   \n",
       "전라남도         3246762   2923191   2705920   2507439   2066842   1996456   \n",
       "경상북도         3340978   3102060   2930631   2766797   2676312   2724931   \n",
       "경상남도         2775061   2689376   2766340   2810194   2878193   2978502   \n",
       "제주특별자치도       411727    462941    488576    514605    505438    513260   \n",
       "\n",
       "                2005      2010  \n",
       "행정구역별(시군구)                      \n",
       "행정구역별(시군구)       총인구       총인구  \n",
       "전국          47278951  48580293  \n",
       "서울특별시        9820171   9794304  \n",
       "부산광역시        3523582   3414950  \n",
       "대구광역시        2464547   2446418  \n",
       "인천광역시        2531280   2662509  \n",
       "광주광역시        1417716   1475745  \n",
       "대전광역시        1442856   1501859  \n",
       "울산광역시        1049177   1082567  \n",
       "경기도         10415399  11379459  \n",
       "강원도          1464559   1471513  \n",
       "충청북도         1460453   1512157  \n",
       "충청남도         1889495   2028002  \n",
       "전라북도         1784013   1777220  \n",
       "전라남도         1819819   1741499  \n",
       "경상북도         2607641   2600032  \n",
       "경상남도         3056356   3160154  \n",
       "제주특별자치도       531887    531905  "
      ]
     },
     "execution_count": 2,
     "metadata": {},
     "output_type": "execute_result"
    }
   ],
   "source": [
    "df = pd.read_csv('population.csv', encoding='CP949', index_col=0)\n",
    "df"
   ]
  },
  {
   "cell_type": "code",
   "execution_count": 3,
   "metadata": {
    "scrolled": false
   },
   "outputs": [
    {
     "data": {
      "text/html": [
       "<div>\n",
       "<style scoped>\n",
       "    .dataframe tbody tr th:only-of-type {\n",
       "        vertical-align: middle;\n",
       "    }\n",
       "\n",
       "    .dataframe tbody tr th {\n",
       "        vertical-align: top;\n",
       "    }\n",
       "\n",
       "    .dataframe thead th {\n",
       "        text-align: right;\n",
       "    }\n",
       "</style>\n",
       "<table border=\"1\" class=\"dataframe\">\n",
       "  <thead>\n",
       "    <tr style=\"text-align: right;\">\n",
       "      <th></th>\n",
       "      <th>1975</th>\n",
       "      <th>1980</th>\n",
       "      <th>1985</th>\n",
       "      <th>1990</th>\n",
       "      <th>1995</th>\n",
       "      <th>2000</th>\n",
       "      <th>2005</th>\n",
       "      <th>2010</th>\n",
       "    </tr>\n",
       "    <tr>\n",
       "      <th>행정구역별(시군구)</th>\n",
       "      <th></th>\n",
       "      <th></th>\n",
       "      <th></th>\n",
       "      <th></th>\n",
       "      <th></th>\n",
       "      <th></th>\n",
       "      <th></th>\n",
       "      <th></th>\n",
       "    </tr>\n",
       "  </thead>\n",
       "  <tbody>\n",
       "    <tr>\n",
       "      <th>전국</th>\n",
       "      <td>34704286</td>\n",
       "      <td>37436315</td>\n",
       "      <td>40448486</td>\n",
       "      <td>43410899</td>\n",
       "      <td>44608726</td>\n",
       "      <td>46136101</td>\n",
       "      <td>47278951</td>\n",
       "      <td>48580293</td>\n",
       "    </tr>\n",
       "  </tbody>\n",
       "</table>\n",
       "</div>"
      ],
      "text/plain": [
       "                1975      1980      1985      1990      1995      2000  \\\n",
       "행정구역별(시군구)                                                               \n",
       "전국          34704286  37436315  40448486  43410899  44608726  46136101   \n",
       "\n",
       "                2005      2010  \n",
       "행정구역별(시군구)                      \n",
       "전국          47278951  48580293  "
      ]
     },
     "execution_count": 3,
     "metadata": {},
     "output_type": "execute_result"
    }
   ],
   "source": [
    "# 1. 전국 기준 인구 추출(행기준)\n",
    "pop = df[1:2]\n",
    "pop"
   ]
  },
  {
   "cell_type": "code",
   "execution_count": 4,
   "metadata": {},
   "outputs": [
    {
     "data": {
      "text/plain": [
       "<matplotlib.collections.PathCollection at 0x7f2444982518>"
      ]
     },
     "execution_count": 4,
     "metadata": {},
     "output_type": "execute_result"
    },
    {
     "data": {
      "image/png": "[encoded data removed]",
      "text/plain": [
       "<Figure size 432x288 with 1 Axes>"
      ]
     },
     "metadata": {
      "needs_background": "light"
     },
     "output_type": "display_data"
    }
   ],
   "source": [
    "# 2. matplotlib.pyplot 으로 scatter plot 그래프 그리기\n",
    "x = pop.columns.tolist()\n",
    "y = pop.values.tolist()\n",
    "plt.scatter(x, y)"
   ]
  },
  {
   "cell_type": "code",
   "execution_count": 5,
   "metadata": {},
   "outputs": [
    {
     "data": {
      "text/plain": [
       "['34704286',\n",
       " '37436315',\n",
       " '40448486',\n",
       " '43410899',\n",
       " '44608726',\n",
       " '46136101',\n",
       " '47278951',\n",
       " '48580293']"
      ]
     },
     "execution_count": 5,
     "metadata": {},
     "output_type": "execute_result"
    }
   ],
   "source": [
    "y1 = y[0][:]\n",
    "y1"
   ]
  },
  {
   "cell_type": "code",
   "execution_count": 6,
   "metadata": {},
   "outputs": [
    {
     "data": {
      "text/plain": [
       "[2.7524764667473267,\n",
       " 2.477127401814904,\n",
       " 3.4239377291339816,\n",
       " 2.7592771114922083,\n",
       " 7.323915659043456,\n",
       " 8.046120458170094,\n",
       " 7.87231006567892]"
      ]
     },
     "execution_count": 6,
     "metadata": {},
     "output_type": "execute_result"
    }
   ],
   "source": [
    "# 3. 평균 인구 증가율\n",
    "lst = []\n",
    "increase = 0\n",
    "for i in range(len(y1)-1,0,-1) :\n",
    "    increase = (int(y1[i]) - int(y1[i-1]))/int(y1[i-1])*100\n",
    "    lst.append(increase)\n",
    "    \n",
    "lst"
   ]
  },
  {
   "cell_type": "code",
   "execution_count": 7,
   "metadata": {},
   "outputs": [
    {
     "data": {
      "text/plain": [
       "4.950737841725841"
      ]
     },
     "execution_count": 7,
     "metadata": {},
     "output_type": "execute_result"
    }
   ],
   "source": [
    "np.mean(lst)"
   ]
  },
  {
   "cell_type": "code",
   "execution_count": 8,
   "metadata": {},
   "outputs": [],
   "source": [
    "# 4. 선형회귀 기울기와 y절편 구하기\n",
    "# http://hleecaster.com/ml-linear-regression-example/\n",
    "# https://woowabros.github.io/study/2018/08/01/linear_regression_qr.html"
   ]
  },
  {
   "cell_type": "code",
   "execution_count": 9,
   "metadata": {},
   "outputs": [],
   "source": [
    "from sklearn.linear_model import LinearRegression"
   ]
  },
  {
   "cell_type": "code",
   "execution_count": 10,
   "metadata": {},
   "outputs": [
    {
     "data": {
      "text/html": [
       "<div>\n",
       "<style scoped>\n",
       "    .dataframe tbody tr th:only-of-type {\n",
       "        vertical-align: middle;\n",
       "    }\n",
       "\n",
       "    .dataframe tbody tr th {\n",
       "        vertical-align: top;\n",
       "    }\n",
       "\n",
       "    .dataframe thead th {\n",
       "        text-align: right;\n",
       "    }\n",
       "</style>\n",
       "<table border=\"1\" class=\"dataframe\">\n",
       "  <thead>\n",
       "    <tr style=\"text-align: right;\">\n",
       "      <th>행정구역별(시군구)</th>\n",
       "      <th>year</th>\n",
       "      <th>population</th>\n",
       "    </tr>\n",
       "  </thead>\n",
       "  <tbody>\n",
       "    <tr>\n",
       "      <th>0</th>\n",
       "      <td>1975</td>\n",
       "      <td>34704286</td>\n",
       "    </tr>\n",
       "    <tr>\n",
       "      <th>1</th>\n",
       "      <td>1980</td>\n",
       "      <td>37436315</td>\n",
       "    </tr>\n",
       "    <tr>\n",
       "      <th>2</th>\n",
       "      <td>1985</td>\n",
       "      <td>40448486</td>\n",
       "    </tr>\n",
       "    <tr>\n",
       "      <th>3</th>\n",
       "      <td>1990</td>\n",
       "      <td>43410899</td>\n",
       "    </tr>\n",
       "    <tr>\n",
       "      <th>4</th>\n",
       "      <td>1995</td>\n",
       "      <td>44608726</td>\n",
       "    </tr>\n",
       "    <tr>\n",
       "      <th>5</th>\n",
       "      <td>2000</td>\n",
       "      <td>46136101</td>\n",
       "    </tr>\n",
       "    <tr>\n",
       "      <th>6</th>\n",
       "      <td>2005</td>\n",
       "      <td>47278951</td>\n",
       "    </tr>\n",
       "    <tr>\n",
       "      <th>7</th>\n",
       "      <td>2010</td>\n",
       "      <td>48580293</td>\n",
       "    </tr>\n",
       "  </tbody>\n",
       "</table>\n",
       "</div>"
      ],
      "text/plain": [
       "행정구역별(시군구)  year population\n",
       "0           1975   34704286\n",
       "1           1980   37436315\n",
       "2           1985   40448486\n",
       "3           1990   43410899\n",
       "4           1995   44608726\n",
       "5           2000   46136101\n",
       "6           2005   47278951\n",
       "7           2010   48580293"
      ]
     },
     "execution_count": 10,
     "metadata": {},
     "output_type": "execute_result"
    }
   ],
   "source": [
    "pop1 = pop.transpose().reset_index().rename(columns={'index':'year', '전국':'population'})\n",
    "pop1"
   ]
  },
  {
   "cell_type": "code",
   "execution_count": 11,
   "metadata": {},
   "outputs": [],
   "source": [
    "x_train = pop1['year']\n",
    "y_train = pop1['population']"
   ]
  },
  {
   "cell_type": "code",
   "execution_count": 12,
   "metadata": {
    "scrolled": true
   },
   "outputs": [],
   "source": [
    "lr = LinearRegression().fit(x_train.values.reshape(-1,1), y_train)"
   ]
  },
  {
   "cell_type": "code",
   "execution_count": 13,
   "metadata": {},
   "outputs": [
    {
     "data": {
      "text/plain": [
       "array([391918.81190476])"
      ]
     },
     "execution_count": 13,
     "metadata": {},
     "output_type": "execute_result"
    }
   ],
   "source": [
    "# 기울기\n",
    "lr.coef_"
   ]
  },
  {
   "cell_type": "code",
   "execution_count": 14,
   "metadata": {
    "scrolled": true
   },
   "outputs": [
    {
     "data": {
      "text/plain": [
       "-738072725.5952384"
      ]
     },
     "execution_count": 14,
     "metadata": {},
     "output_type": "execute_result"
    }
   ],
   "source": [
    "# y절편\n",
    "lr.intercept_"
   ]
  },
  {
   "cell_type": "code",
   "execution_count": 15,
   "metadata": {
    "scrolled": true
   },
   "outputs": [
    {
     "data": {
      "text/plain": [
       "<matplotlib.legend.Legend at 0x7f2437ab79b0>"
      ]
     },
     "execution_count": 15,
     "metadata": {},
     "output_type": "execute_result"
    },
    {
     "data": {
      "image/png": "[encoded data removed]",
      "text/plain": [
       "<Figure size 432x288 with 1 Axes>"
      ]
     },
     "metadata": {
      "needs_background": "light"
     },
     "output_type": "display_data"
    }
   ],
   "source": [
    "plt.scatter(x, y, label='train')\n",
    "plt.plot(x_train, lr.predict(x_train.values.reshape(-1,1)), dashes=[1,5], color='red', label='predict')\n",
    "plt.legend()"
   ]
  },
  {
   "cell_type": "code",
   "execution_count": 16,
   "metadata": {},
   "outputs": [
    {
     "data": {
      "text/plain": [
       "array([52427518.01666665, 52819436.82857144, 53211355.64047611,\n",
       "       53603274.4523809 , 53995193.26428568])"
      ]
     },
     "execution_count": 16,
     "metadata": {},
     "output_type": "execute_result"
    }
   ],
   "source": [
    "lr.predict(np.array([[2017],[2018],[2019],[2020],[2021]]))"
   ]
  },
  {
   "cell_type": "code",
   "execution_count": 17,
   "metadata": {},
   "outputs": [],
   "source": [
    "# 5. 딥러닝 회귀"
   ]
  },
  {
   "cell_type": "code",
   "execution_count": 18,
   "metadata": {},
   "outputs": [],
   "source": [
    "import tensorflow as tf\n",
    "import random"
   ]
  },
  {
   "cell_type": "code",
   "execution_count": 19,
   "metadata": {},
   "outputs": [],
   "source": [
    "X_train = pop1['year'].astype('float32').tolist()\n",
    "Y_train = pop1['population'].astype('float32').tolist()"
   ]
  },
  {
   "cell_type": "code",
   "execution_count": 20,
   "metadata": {
    "scrolled": true
   },
   "outputs": [
    {
     "name": "stdout",
     "output_type": "stream",
     "text": [
      "99 a: 24754.43 b: 20549.617 loss: 61031343000000.0\n",
      "10099 a: 23545.428 b: -4026334.2 loss: 18664480000000.0\n",
      "20099 a: 25709.527 b: -8378163.5 loss: 18452438000000.0\n",
      "30099 a: 27969.037 b: -12699014.0 loss: 18276917000000.0\n",
      "40099 a: 30033.79 b: -16993156.0 loss: 18039253000000.0\n",
      "50099 a: 25963.527 b: -21264276.0 loss: 171134250000000.0\n",
      "60099 a: 34301.92 b: -25497222.0 loss: 17636205000000.0\n",
      "70099 a: 36426.973 b: -29731948.0 loss: 17437289000000.0\n",
      "80099 a: 38569.742 b: -33946570.0 loss: 17243480000000.0\n",
      "90099 a: 40618.53 b: -38119330.0 loss: 17048056000000.0\n",
      "100099 a: 42504.45 b: -42266840.0 loss: 17036244000000.0\n",
      "110099 a: 130082.164 b: -46304324.0 loss: 2.8929873e+16\n",
      "120099 a: 46920.184 b: -50488612.0 loss: 16502389000000.0\n",
      "130099 a: 48890.293 b: -54564140.0 loss: 16294684000000.0\n",
      "140099 a: 50923.37 b: -58616884.0 loss: 16112056000000.0\n",
      "150099 a: 249207.53 b: -62454040.0 loss: 1.5309294e+17\n",
      "160099 a: 54579.89 b: -66653936.0 loss: 16317466000000.0\n",
      "170099 a: 56966.043 b: -70633464.0 loss: 15577577000000.0\n",
      "180099 a: 58939.516 b: -74589780.0 loss: 15402937000000.0\n",
      "190099 a: 81246.445 b: -78508440.0 loss: 1657787700000000.0\n",
      "200099 a: 74177.766 b: -82426440.0 loss: 522479450000000.0\n",
      "210099 a: 64823.9 b: -86324136.0 loss: 14892817000000.0\n",
      "220099 a: 66789.59 b: -90192310.0 loss: 14728049000000.0\n",
      "230099 a: 68380.836 b: -94033330.0 loss: 14961026000000.0\n",
      "240099 a: 70636.35 b: -97860424.0 loss: 14401293000000.0\n",
      "250099 a: 72543.94 b: -101663460.0 loss: 14240635000000.0\n",
      "260099 a: 5229.7188 b: -105521150.0 loss: 1.9044181e+16\n",
      "270099 a: 74235.99 b: -109212230.0 loss: 31091340000000.0\n",
      "280099 a: 78179.53 b: -112947770.0 loss: 13769334000000.0\n",
      "290099 a: 80053.805 b: -116662250.0 loss: 13615826000000.0\n",
      "300099 a: 81908.6 b: -120356850.0 loss: 13464461000000.0\n",
      "310099 a: 83662.27 b: -124030240.0 loss: 13346915000000.0\n",
      "320099 a: 85582.875 b: -127680264.0 loss: 13167139000000.0\n",
      "330099 a: 118511.05 b: -131271850.0 loss: 3859114600000000.0\n",
      "340099 a: 88803.2 b: -134906620.0 loss: 13536099000000.0\n",
      "350099 a: 91008.65 b: -138489520.0 loss: 12734767000000.0\n",
      "360099 a: 92795.98 b: -142049950.0 loss: 12594021000000.0\n",
      "370099 a: 94788.94 b: -145595000.0 loss: 12636956000000.0\n",
      "380099 a: 96329.61 b: -149113470.0 loss: 12317803000000.0\n",
      "390099 a: 97900.42 b: -152609820.0 loss: 12332195000000.0\n",
      "400099 a: 97150.47 b: -156089020.0 loss: 40793507000000.0\n",
      "410099 a: 101708.52 b: -159534500.0 loss: 11990821000000.0\n",
      "420099 a: 103292.74 b: -162966240.0 loss: 11784235000000.0\n",
      "430099 a: 105013.65 b: -166387800.0 loss: 11654566000000.0\n",
      "440099 a: 106717.375 b: -169790260.0 loss: 11526292000000.0\n",
      "450099 a: 245146.03 b: -173032420.0 loss: 7.4312005e+16\n",
      "460099 a: 109143.086 b: -176524290.0 loss: 14887790000000.0\n",
      "470099 a: 112312.01 b: -179857780.0 loss: 12317665000000.0\n",
      "480099 a: -50057.766 b: -183337520.0 loss: 1.0623934e+17\n",
      "490099 a: 110744.77 b: -186475310.0 loss: 85908310000000.0\n"
     ]
    }
   ],
   "source": [
    "a = tf.Variable(random.random())\n",
    "b = tf.Variable(random.random())\n",
    "\n",
    "def compute_loss():\n",
    "    y_pred = a* X_train + b\n",
    "    loss = tf.reduce_mean((Y_train - y_pred)**2)\n",
    "    return loss\n",
    "\n",
    "optimizer = tf.optimizers.Adam(lr=1000000)\n",
    "\n",
    "for i in range(500000):\n",
    "    optimizer.minimize(compute_loss, var_list=[a,b])\n",
    "    \n",
    "    if i % 10000 == 99:\n",
    "        print(i, 'a:', a.numpy(), 'b:', b.numpy(), 'loss:', compute_loss().numpy())"
   ]
  },
  {
   "cell_type": "code",
   "execution_count": 21,
   "metadata": {},
   "outputs": [],
   "source": [
    "line_x = np.arange(min(X_train), max(X_train), 0.01)\n",
    "line_y = a * line_x + b"
   ]
  },
  {
   "cell_type": "code",
   "execution_count": 22,
   "metadata": {},
   "outputs": [
    {
     "data": {
      "image/png": "[encoded data removed]",
      "text/plain": [
       "<Figure size 432x288 with 1 Axes>"
      ]
     },
     "metadata": {
      "needs_background": "light"
     },
     "output_type": "display_data"
    }
   ],
   "source": [
    "plt.plot(X_train, Y_train, 'bo')\n",
    "plt.plot(line_x, line_y, 'r-')\n",
    "plt.xlabel('Population Growth Rate (%)')\n",
    "plt.ylabel('Elderly Growth Rate (%)')\n",
    "plt.show()"
   ]
  },
  {
   "cell_type": "code",
   "execution_count": 23,
   "metadata": {},
   "outputs": [
    {
     "data": {
      "text/plain": [
       "<tf.Tensor: shape=(5, 1), dtype=float32, numpy=\n",
       "array([[89935760.],\n",
       "       [90074380.],\n",
       "       [90213010.],\n",
       "       [90351660.],\n",
       "       [90490290.]], dtype=float32)>"
      ]
     },
     "execution_count": 23,
     "metadata": {},
     "output_type": "execute_result"
    }
   ],
   "source": [
    "value = a*np.array([[2017],[2018],[2019],[2020],[2021]])+b\n",
    "value"
   ]
  },
  {
   "cell_type": "code",
   "execution_count": 24,
   "metadata": {},
   "outputs": [],
   "source": [
    "# 예측(2020) vs 차이(선형회귀/딥러닝회귀)"
   ]
  },
  {
   "cell_type": "code",
   "execution_count": 25,
   "metadata": {},
   "outputs": [
    {
     "data": {
      "text/plain": [
       "array([53603274.4523809])"
      ]
     },
     "execution_count": 25,
     "metadata": {},
     "output_type": "execute_result"
    }
   ],
   "source": [
    "# 선형회귀\n",
    "lr.predict([[2020]])"
   ]
  },
  {
   "cell_type": "code",
   "execution_count": 26,
   "metadata": {},
   "outputs": [
    {
     "data": {
      "text/plain": [
       "<tf.Tensor: shape=(1,), dtype=float32, numpy=array([90351660.], dtype=float32)>"
      ]
     },
     "execution_count": 26,
     "metadata": {},
     "output_type": "execute_result"
    }
   ],
   "source": [
    "# 딥러닝회귀\n",
    "value[[3]]"
   ]
  },
  {
   "cell_type": "code",
   "execution_count": null,
   "metadata": {},
   "outputs": [],
   "source": []
  }
 ],
 "metadata": {
  "kernelspec": {
   "display_name": "Python 3",
   "language": "python",
   "name": "python3"
  },
  "language_info": {
   "codemirror_mode": {
    "name": "ipython",
    "version": 3
   },
   "file_extension": ".py",
   "mimetype": "text/x-python",
   "name": "python",
   "nbconvert_exporter": "python",
   "pygments_lexer": "ipython3",
   "version": "3.6.9"
  }
 },
 "nbformat": 4,
 "nbformat_minor": 4
}
